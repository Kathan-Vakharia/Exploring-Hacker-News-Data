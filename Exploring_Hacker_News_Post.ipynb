{
  "nbformat": 4,
  "nbformat_minor": 0,
  "metadata": {
    "colab": {
      "name": "Exploring_Hacker_News_Post.ipynb",
      "provenance": [],
      "toc_visible": true,
      "authorship_tag": "ABX9TyO9UkXc3vW2JoP2H96ZZUit",
      "include_colab_link": true
    },
    "kernelspec": {
      "name": "python3",
      "display_name": "Python 3"
    },
    "language_info": {
      "name": "python"
    }
  },
  "cells": [
    {
      "cell_type": "markdown",
      "metadata": {
        "id": "view-in-github",
        "colab_type": "text"
      },
      "source": [
        "<a href=\"https://colab.research.google.com/github/Kathan-Vakharia/Exploring-Hacker-News-Data/blob/main/Exploring_Hacker_News_Post.ipynb\" target=\"_parent\"><img src=\"https://colab.research.google.com/assets/colab-badge.svg\" alt=\"Open In Colab\"/></a>"
      ]
    },
    {
      "cell_type": "markdown",
      "metadata": {
        "id": "SMhW8rD7Enow"
      },
      "source": [
        "# Getting Insights from Hacker News Posts\n",
        "\n",
        "![hacker_news.jpg](data:image/jpeg;base64,/9j/4AAQSkZJRgABAQEAZABkAAD/2wBDAAMCAgMCAgMDAwMEAwMEBQgFBQQEBQoHBwYIDAoMDAsKCwsNDhIQDQ4RDgsLEBYQERMUFRUVDA8XGBYUGBIUFRT/2wBDAQMEBAUEBQkFBQkUDQsNFBQUFBQUFBQUFBQUFBQUFBQUFBQUFBQUFBQUFBQUFBQUFBQUFBQUFBQUFBQUFBQUFBT/wgARCAB4AlgDAREAAhEBAxEB/8QAHAABAAMBAQEBAQAAAAAAAAAAAAUGBwgEAwIB/8QAGwEBAAMBAQEBAAAAAAAAAAAAAAUGBwQDAgH/2gAMAwEAAhADEAAAAfVjG4gAAAAAAAAAAAAAAAAAAAAAAAAAAAAAAAAAAAAAa9fc78PN1gAAAAe7q5KnBWCm16yAAAAAAAAAAAAAAAAAAAAAAAAAAAAAAahdKNl9LvIAAAAE9KRMp28NNr1kAAAAAAAAAAAAAAAAAAAAAAAAAAAAAA1C6UbL6XeRPS0Rolqp+QUPQ/x5+gs85A3SwVrJaJoX8/P2elImU7eGm16yAAAAAAAAAAAAAAAAAAAAAAAAAAAAAAahdKNl9LvI/X38dA6nkeeVS4Z/VLf/AH9/N81HJaRXLPnNQugnpSJlO3hpteskPIR0f081ohpoVKagpri75Pi7gAAABllypPv5urRKtbAAAAAAB8PfwrMnEyPP1TkbJxnbwxfZx2eGmgAAAAAAAAABqF0o2X0u8gXCwVzW71n3PGU7BapyB1y9Z7z1lWv/AC8vUT0pEynbw02vWTHLzQKDY6z1DkeyjkrZ8O2miaDplTuAAAAA5403KpnhkNuoGigAAAAACAk4vmnVMi93h0dL5XrtBsNZy+207p7JdjAAAAAAAAAAGoXSjZfS7yB/TdtOyikVy0Xuy1XP6tbqJWLWBPSkTKdvDTa9ZMcvNAz6zVbd860sc76ble00TQblCT3PmlZd8/r4/f59bdQdEtMRNYhfs6pE/Xfv8em7Z5pWUW+kzPDIXuv2TGL3n+657pH5fmJX7O/B0c0tyd2+ZxpuX26mV6Si/wCGh1m06BWbUICTi+adUyKS5uq2w05aIeZy+207p7Jdjzm1VLKbjSfN6eVzg5/Uqjc8B0XMugs31CqTMJl9tpvSWWa3jV6oH6+frQq1acPv+c+X28ft5+nSOW616fD3AGoXSjZfS7yALHMQu5aTlsXxd2AZdrf5+PsCelImU7eGm16yY5eaBmVtp8lx9giO3h2miaDpFXtlVmYSAkY3LLfS7jBz9hjZTIrpRelcr1w/fP6eWLXrPv2/a5KRWs0y76dUblzhqeSSPN13qvWTGrzQNYpt3r8jGV6Vidjo1+nY+SkuLtEBJxfNOqZFulA0fDr/AJzb4WdhO2P6Ry7WuXNcxnTapcPb4e+QXSjdIZfrGB6NmWrU+7UOw1qDkY3cM/0bD7/nOw0m+ViViKTYK5r9JvknyddoiJn6+XqANQulGy+l3kADf9TyOiVm1Z3UrkAJ6UiZTt4abXrJjl5oFBsdZ6hyPZRyVs+HbTRNB/b9yG60TZqLoGZ2uoTkdJSnL2Z7Zat0/kuxvn9+Pt5c/aPl8Z28Xk9vHS6nb9apd55g1zGrNFS92r9jFhjZXMLZTo/p5egc11EAQEnF806pkXTmT7Dl1vpeaWmpS/F3dC5rqXMer4/rFPus1HyIuUJP5NcqPBSMbC93Bp9TuFMnICqTMJ1HkWzeHp5cst9MqsvCxHbw9KZZrc3GyYA1C6UbL6XeQAN81DJqJWbVn1Vt4AnpSJlO3hptesmOXmgUGx1nqHI9lHJWz4dtNE0H5/fxktzo+l1W3Z/ZavboOe1Gp3HnXTsqs0VL/wB/P3Q6xas4s9TmeGQt0PN4ffs66MzHV6VPV7M7XUNFq9rj+nltMTM1WWho/p5egc11EAQEnF806pkXTmT7D7fH35o1XIfr5+nT2T7Fz1pmWeHo5bvX7HWpWI2Kj36L6+Ln3Scv0as2vVKfdOZdWyC4Qs70LmWqYloOc/r5+v6Z/ZKv0pleuy3B3gDULpRsvpd5AA3zUMmolZtWfVW3gCelImU7eGm16yQ8hHR/TzWiGmhUpqCmuLvkebrpM9XvZ4+/s5+j6fP1ORsnHdnHU5mD+vx6XCEnYbu4Pt8fc5GydUm4P383TNxsnXJaIgJKL9vh0WyFnIzr4/n9fNgi5UAfD38KzJxNni5f7ePtCyMb4ujns8NNfn0+KjNQcZ08cxx99ph5n+fv5VZaGmuKQk+Ltqs3ByXJ1zEfIx3Zx1WYhPx9fNshpyS4u0ADULpRsvpd5AA1G60SsQ85VYKfAE9KRMp28NNr1kAAAAAAAAAAAAAAAAAAAAAAAAAAAAAA1C6UbL6XeQAAAAJ6UiZTt4abXrIAAAAAAAAAAAAAAAAAAAAAAAAAAAAABr19zvw83WAAAAB7urkqcFYKbXrIAAAAAAAAAAAAAAAAAAAAAAAAAAAAAAAAAAAAAAAAAAAAAAAAAAAAAAAAAAAAAAAAAAP/xAAsEAABAwQBAwQCAgIDAAAAAAAEAwUGAAECNRYQFCATFTQ2MFAREiVAMWBw/9oACAEBAAEFAv8AprET2Ud5rXNa5rXNa5rXNa5rXNa5rXNa5rQMr70uV7f96D9R/GxbeV7f96D9R6Mo4xhqsQE9LPC6efRhabOhJcbbgxujFt5Xt/3oP1HpbK+N2hws5Ay1u9Anoxt/tzfLXL+6vRi28r29HO4jbknJm1ZTpytroFyGcsPxPcqLbXOOSIh3M/MQvgKjytroJ7CcVKOchm3BGStq6v8ArA/UesZcuxOcQrOAamGSWcab+9cHI3FvDUUyWU6MW3le3qd/Ia9n1gnwvxSvfwbZ/mf9LQZagJIBqbiJOviNG1/1gfqPhH3L3ECWt3oksLf7e3ytx7kvqxbeV7ep38gBTFE7lbXXK2vpBPhPSuaDV6px91G0tHEZ0LEyjj57wguvgMi6y0ovNVbNa45i4t4ses4tsr38G2ckfLNQ+Lo4Z5MYC4Yz4+JsyBT0c4qKAFD4t8hNb8285NxEmJxIzm0P6wpp8qPMzhpKpQPR/wBLRYWYdRN47AudfEaNrUhlHYZ5kGuiiiBIOTLKyBVXzFRVo93OpkKua1TJzUERSejk1ElLLJSt2IwdYmuYc5vr3gzDlvRp2ftZn9EXU4LMXO6g3gD9R8GJx9tPWQTIweXCzaDe/wDN+rFt5Xt6nfyMcbqZe0HV7Qd0gnwlE8VcCZI2t1KToe1OReBxkHv/AJScF3wGHRuSu3NY7Yic1iuODM1WZxpXv445JtS5hahxMTYbI4VIS7mO8cdg2nK83AvYrJPMmCLXuPONsxAJubljE2vGwLcO2p9H/S0u0+6xm9r43cXf3JnaNqav2oamd1c2SSANQDnKm9wBqOq9yxuQvYnwcr+4cpL7t5MDzCyiZncszgT3h0KD9FtnWGfftpvtxyE1BUrP2qR4JJ2RS8AfqPiw53UaJlnl3XgxbeV7ep38hr2fWCfCmjlmMOINkYShCgk8ZEGkC6wfbTtO/wDdrWsM49E1k1rSvftLYo7FmiKAEw566Oid0nKNMorxbg4NcHBpoY0GapxtohvPB/0tMuomDP269NG1eU7qtNM0XBc27g4NcHBpvBwbRJuH6Zscc7NhgQ+Tg4TcK3bsjr2AmGN1MwhrBiOQIzsmVCS07lspwOKamSWbKbdwa/AH6j4x7TTL53gxbeV7ep38hr2fWCfCm4OaqIxGYpF53n6biQuWVB9s+NdnYAgdQRUCUHN6RsqPNwhGole/g2zlrN3o2GeSebC7Yu4UtYc81AzFQF0p2pbEyalr2hSmaw0420Q3ng/6WmXUGC4HDHhZt5bRtf8Amn9iUaiGp7IaM7Ty/wDDhKjTrMGllofdM9QkT1nF6E75rqKh928VLSFBX0SblJWPmihYo46hSrUF7c3+AP1Hxj2mmXzvBi28r29HNAjlknGW1FTpxRroFtGbcMsbZ2JhzeRmDFwAci2EE5cFlDbVaMbhnDFSFN+d0Ic3I3QHTGTKj4Bq4LKG2qVlFmvLIJlDblKMjwB17wgC90Ig3I0gMkLgcyhuSojCCCv4EIYFI8Ua6RRwHSo5mDcs0Y02oK1lhZTEmKNxF+Dg0PF20a+ONsMVMMVcOKNdAtozbhWUWbMsgWgRsvRbcMfZWGN6l8IU343CbRm/HxB+o+LTJBAm+QuSTmT4MW3le3/eg/UfxsW3le3/AHrEN3sd4VXCq4VXCq4VXCq4VXCq4VXCq4VQMU7IuV7f/wAG/8QAQxEAAAQDAQkMCQUAAgMAAAAAAQIDBAAFEXEGEBIhMTRB0eETFBYgUWFjcoGhorEiMjM1UlORwfAVIzBCUEDxRGBw/9oACAEDAQE/Af8A02aIb5mgI1pWkcGem8O2ODPTeHbHBnpvDtjgz03h2xwZ6bw7Y4M9N4dscGem8O2ODPTeHbHBnpvDtjgz03h2xwZ6bw7YdSDeyJlt1rTm2xIMyC0f95177T7P5JrmStkSDMgtH/ede+0+y/Mll26ArIaMtkJ3QucMMMApBTAcAMXIN+bTAWCQYHrDDedP3KpUSAFR5tt+a5krZEgzILR/3nXvtPsvmADBQYmLQWTgUtGiyLn3m6pC3NlL5bL80d78cicMgYgi55lgkF0fKOS/NcyVsiQZkFo3nL9u0EAWNStsEnDFQwEKfGPMOq/+tsPmdw6obO0XYCZE1QD+OYTpw0dGRIAUDVbEpmqz5YU1AAKBo/7/AJ1VSokFQ+IAj9bYfM7h1Q3mLV0bARPUe285doNAAyxqVgk3ZKHAhD4x5h1f8d177T7OJO2W+m+GX1i/gwzci0XKsGiCGA5QOXIMTt3vZtglymxa4ZNTPFyol0+UEIVMoELkC/NcyVsiQZkFo3rpfaJ2DDPOUusHnxLm/Ynt/jnefqdnkEXN5yfq/cP55nmStl5BY7dQFSZQhq4I6SBYmmLpPYp2wwztLrB5/wDHde+0+zizdlvNwNPVHGEXPvN0SFubKXyiavN+ORMHqhiCJCz3FHdzZTeW3iTXMlbIkGZBaN66X2idgw2OCa5DmyAIecfrbD5ncOqP1th8zuHVeub9ie2JgcybRQ5BoIBGG6c4qmN9RgzRwmFTpiHYMJPXKA1TOIRKZlv9MQP64QqoVEgqHHEEPZ44XESojgl74OodQanGsJuFUPZmEIkzlV02w1hqIDE7z9Ts8gi5vOT9X7hE3mQMk8Anrj3c8A9eGGgKm+oxLWyzdOq5xEw89aRMpiRgTlMOQIWmDt0b0jjYEGbOEgwzkEAsGGs1dNTYjVDkGGrkjpIFiaYnzlZFyUqZxAMHQPOMMZoqithrnMIWw5nTtwPomwQ5tcSBZRZA4qGEcem/M8yVsvLtzoYOFkMADEkf72V3E/qm84uk9inbDDO0usHnems53qbcUPW8oMq6eGoIib85IMmu2H0gEo/SJfO1kTgRwOEXvCJiBztDiiaghjxRv938031GJctvhqmoOWkT94dAhE0jUEYJMHRDAbdTDTnGCHBQoHLpidvliu9zSOIAAaBiSKOXLr01BEA5xiZTErBOuUw5IXmDpyNTnGN5uaV3I30GE3rtuPonEPzkhEwnSKYcogHFde+0+zizVlv1uIF9YMkJqnRNhEGgxLWYvXAJ6NNkAAFCgcSa5krZEgzILRvXS+0TsGAATDQI3g7+Ub6DG8HfyjfQb1zfsT2wYpThgmCoQtNmTT0AGtOT8pBrpEf6JiMO1yuVhVKXBroi5zOjdX7hF0a4lTIiGn7QkmKyhUw0w0ZosyYCYa4cMkHYUVLXzhgyBgkKQGrjrE7z9Ts8giUuyMjqKm+HvqELrncKCqplGJJLATKDpXKOTXemq4uHhx5MX0iUvW7ETHVKImjhE0HEJTfQNcLCQyhhSxF0Rc0cRTUJyU7/APqLo87L1fuMS1sR45KifJASNgAepXtGGzRFoUSohQBvzPMlbLyrHfssTAPWAoU+kZIdP99s0yH9YowwztLrB5w4U3FE6vIEGMJzCY2UYl82aMkATwRrpya4dzpm6QMkJRx8wZfrelR91YpiPJ5Yodob2XOlyDFzi2EidHkHzicr7u8NyFxfTbC7c7cSgfSAD9Yki+7MwAcpcUOld3XOryjFzyG5thVH+3kH4MXSFNu5DaKfeGbjei5VqVpCd0LU3rgIQbeE2LSoCPfrghQIUCBo4rr32n2caalAj1QCxc2UNxOfTXizXMlbIkGZBaN66X2idgwzzlLrB58S5v2J7YugdnRTKgT+2WyEETOFSpFyjCdzzUoemIiMTVBNs6MkkFAxRc5nZur9wi6Ug1SPoxwyUBFymc2QBC+RQh/UGtInefqdnkEMWZ3qwJEhwgdsqKR8oRIZh/4io2arz0okcqFHlGJRL0H+GCoiAh+ckcHGnxG7tUcHGnxG7tUMZclL8LchEa8vNF0edl6v3GJFnxe3y4szzJWy9L80S6oRPmG5Kb5JkNlt23mGdpdYPOJgUTtFShyDeYSZq7blWEw1GzVHBxp8Ru7VHBxp8Ru7VDVuRoiCJMgRdEhgLlWD+32iUvAZrGMbIIDrhukLpwUnxDF0Tf8AbIsGjFEue72SXJyh35PvBSiYcEIbpAgkVINEO2yD0ooKZe8IWudcEH9oQN3QvL3TYMJROgfnJBTGIOEUaCES5wLpqRUco8V177T7ONOM+U/NEXN5ue37cWa5krZEgzILRvXS+0TsGGecpdYPPiXN+xPbF0TYxyEXLoywiqZBQFCZQjhKfB9ljt2feHaqy6oqr5Ri5zOzdX7hExZA+QFPTohVI6BxIoFBCG05dtS4ADUOeHE6duC4NaBzRc7mg9YfIInefqdnkEXN5yfq/cInjDfCW7kD0i94QUwkEDFyhEsfA+Qwv7BlieSw5jb6RCvLrhBwo1UBVIaDBLpTgHppV7aa4cXQuFAokGD3j+dkXPHMokoY41GsXR52Xq/cYkWfF7fLizPMlbL0vzRLqhC6JHCYpHyDDludqqZE+UIYZ2l1g870zlp2SgmKHoD+UhlMFmI/t5B0RwlGnsu/ZDqdOnIYIDghza4lmZJWRPEN2ZiOkuO9c8hhuBVH+oef4MTBDfLU6em9JUN3eF5C4/ztvTxU6L4DpjQaBCF0S5AoqUDd0OboDrpCmROleeuqEkjrHAiYVEYZN96tyI8nFde+0+zjTjPlPzRFzebnt+3FmuZK2RIMyC0bzlg3diArFrS2CSdimYDlJjDnHXf/AERh8vvHXDZoi0ASoloAwIAYKDCshZqjUKls/BhvJmjYcIC1Hn/KQvLGjk+6KkqNow2l7VofDRLQe28u0QchRYtYNc8zNkqHbCcgZJ+tUbR1UhNIiJcBMKBC0rZuFBVVJUR5xhvL2zQ2GiWg9t4ZMxMNRT7x1w3l7ZobDRLQbRvLyto5GpyY/pHB1p8Ru7VCUiZJ5QrbspCSSaJcFMtAhzL2rs+GsWo9sISxo2PuiRKDaPFVSKsQUz4wGP0Rh8vvHXCZCpEAhMgXnMvbOzAZYtRC2CShkmcDkJjDnHXeMUDBQ0KyRkrjwaWRwcafEbu1QlJmSQ1wK244AAKFAg5QOUSjkGP0Rh8vvHXDZogzAQRLSt4ZMxEain3jrhsxbtBEUS0rbeXaIOQ/eJWD3PszYwqHbrrBbnmZcoiPbshu0QahREtOM699p9nGfyVy5cnWJSgxKGSrFIxFdI8Wa5krZEgzILR/3nXvtPs/kmuZK2RIMyC0f96aL72mgLUrSkcJuh8WyOE3Q+LZHCbofFsjhN0Pi2Rwm6HxbI4TdD4tkcJuh8WyOE3Q+LZHCbofFsjhN0Pi2Rwm6HxbIdT/AHyiZHcqV59kSDMgtH/4P//EAEIRAAAFAQIGDwYGAgMBAAAAAAABAgMEBRFxEBIxNIGhBhMUFiAhM0FRYWOxwdHhIjI1U3KRFTBCUFLwI0BEYPFw/9oACAECAQE/Af8AptNe3PTTdststG+LstfoN8XZa/Qb4uy1+g3xdlr9Bvi7LX6DfF2Wv0G+LstfoN8XZa/Qb4uy1+g3xdlr9Bvi7LX6CNW90Opa2uy3r9BXM8O4v36N8HXp/MpmeN3iuZ4dxfv0b4OvThp7TD721P8AP3hygx8U8QztCkmhRpPDTIJTXDx/dIP0iFHbU6szsLrw0zPG7xXM8O4v36N8HXpwkZpO0hAlFLYJzn57xXIm1uE+nIrvw02LuSOSTynlFdl4yijJyFlw0zPG7xXM8O4sEeFIlkZsptsuCqVMQk1qRxF1lh/B53y9ZeYkRXopkl4rLfy4FIYlRkurM7T87hVKYzCaJbZnaZ/nttqdWSEZTH4PO+XrLzD8CTFTjupsLRgjxHpRmTJW2BdKmNpNakcRdZf68b4OvTwKPL3O/iK91QlxylMqaPnCkmhRpPKQo8XdEjGPIn+kJckorKnTC1m4o1qynhpmeN3iuZ4dxYNj3JuaBLzdy4+7gbIeWRd+XRsxb095jZBm6b/A/wA+nZ23fgeZQ+2bS8hiSwuM6bS+YbHuVXcJuau/Sfd/rxvg69PBpcvdbBW+8WUV2LtbhPp/V3imRdyRyI8p5RW5e3O7SnInv4FMzxu8VzPDuLBse5NzQJCTWytCcpkY/B53y9ZeY/B53y9ZeeDZDyyLhAQlyUhCytIzGJGjcdiU/YgmUws7ErIzvDsSO8Vi0EYqlP3CsjR7phttTqyQguMxEozDJWuljK1BKEoKxJWBxhp7lEkYq8duNIxGisKwUbMW9PeY2QZum/wMUqn7scxl+4X9sBw4hFabafsQqEhp9yxhBEkurKKfT1zl9CSyhmBFjJ9lOkJksOHipWR6RJpkaSXGmw+khJjrium0vmFDjsuxlKcQRnb0dRCbTW3mcRlBEdwj0iKwXtJxj6/IVxptp5JNps4sNOztu/Ay+l/GxeY7BWIO6GttR7ye4bHuVXcJuau/SfdgplI3QW3P+73hLUaIm0iJJBLjMgrEmStYn0dp5JqYKxWoxTzQiUknU2kfFxjcUX5SfsQns7RKWgsgocRDy1uOJtIukLgRlJNO1l9iC0mhRoPmFGhtKi47iCO3pIVluPHjew2RGfUQp8BU5yzIksoZgxo5ewgbrj24u2FbeQchxny9pBGHkklxSS6T4Mb4OvTwaZL3I+Rn7p5Q42h0rFlaJ8oojBr5+YGZnxnwKZnjd4rmeHcWDY9ybmgGZJK08g3bF+an7kN2xfmp+5YNkPLIuCVKQeMk7DDVLmSfbsy9P9tCdjzv6lkIrKo7JNKVjWDZBmyfq8DGx9klLW6fN4hxZNINw+YSpbsteM4egR5b0U7WleQnTDnOE4ZWcQo2Yt6e8xVIq5iENp6fAwyyhhsm0ZCFZqOOZxmshZcFNZJiIgunj+4qkKRNJKGlERAqDKI7SUnX5BolpbSTmXnGyJBEttfTbq/9Gx/NVfV4EKhJXEjm6jKDrM0z9/UQkSnpSsZ47TLDTs7bvwNzDh1Fwz90zO374I0Lcsta0e6ohNzV36T7hHb251LfSYSkkkSU5CE+lypj5uYxWc2XyEWjy4zyXSUXFf5YKmjaprhJ/tvGIr26GEO9I2QM4rqXenwFIZ2mInpPjDD6XyM08x2fYVljapZmX6uMRmtoZQ30EK8/jyCb/j4jY+adoWnnt8BLY3Uypm2y0OUGSn3DIwnd1LO2wyLUFqNajUfPwY3wdenhUxRrhtmobIFHtqE81nBpmeN3iuZ4dxYNj3JuaBLzdy4+7gbIeWRcKFFS64p5f6Q86TDanFcwcr0lR+wREQpj7kiMTjp2mNkGap+rwMbHVFY4m4S2zdjrQWUyPCpCke+Vgo2Yt6e8xMlohtbYoMPIkNk6jIYrkD/lNlf54IiiXHbUXQQqs9+Dim2RGRjfBK/inX5jfBK/inX5ibPdnYu2EXF0DY/mqvq8CFazJWjv4NOztu/BPzp28xRJu2o3OvKnJd6YJuau/SfcICiRKbUfSWCdV5MSQpoklZp8xvglfxTr8xvglfxTr8xJkKlOm8vKYoD2Mypro8RVIhy2kpLLaXkH3CjMKX0EKA//AJFtK5+MT4e6XWV9B8d2XwBmSSxjD7pvuqcPnEWQ9DVtzeTUYZr0dZf5CMj+4ZnxpB2NrCkkssVXGQnsFGkrbTk4Mb4OvTwqVmTf95xsg5dF3jwaZnjd4rmeHcWDY9ybmgS83cuPu4GyHlkXCgSEoWpk+cOtpeQba8hje6nG5TiuEVtplom2chDZBmqfq8DFPl7jfJzm5w26h5JLbO0jEikRZKscysPqDFHisHjWWn1iv50V3iYo2Yt6e8xsgzdN/gYo07c7m0r91XeFESixTyCowjhvYv6TyCi1FKU7mdOzo8g+w3IQbbhWkF7HUGfsOWFd/wCBigsNna4eNqFeSlDjaUlYVg2P5qr6vAhWsyVo7+DTs7bvwT86dvMMvKjuE4jKQjvpktE6jnE3NXfpPuGQU2oImNklR+2X9tEyAzNL/Jl6Qex0reJ3V6iNR40c8Yyxj6xUc7cvFGe2mWRcyuLBXnsSOTX8vAQHtzyUOYKu9tMRXXxYKM2h2EaFlaVph6gMLO1pWLrEahIZcJxS7bNAccQyk1rOwiEx/dT6nengxvg69PCpWZN/3nGyDl0XePBpmeN3iuZ4dxYI82REIyZVZbcFVWYtJoUviPqLD+MTvmai8hIlPSjJTx22AjNJ2kGq5LbKw7DvD9XlSCxTVYXUGajKjo2tpdhXEH58mUnEeVaVxYGJT0Y7WlWBNelpy2GHK5LXksLR52hxxbqsZw7TDNSlMIJppdhF1EJE6RKTiPKtLRgKrzS4ic1F5CRPkSk4ryrdBYGKnKjlYlfF18Y/H5XQnX5hytzF5DsuIOOuPHjOHaYYnyYqcRlVhXEHqjKkI2t1dpXFwW3FNLJaMpD8YnfM1F5Ba1OqNa8p4I86RFLFZVYQXVZjiTQpfEfUWBKjSdpBqsTGuLGtvG+CV/FOvzDtXmO8WPZcDUajtMJUaDJRcw/GJ3zNReQkSnpRkbx22YCq80uLbNReQkTZEsiJ5VtmBmU9H5JVgRXZacth/wB6gqvSzyERaPUPyn5J2vKt4Ub4OvTwoNXjx46Wl22kKrMbmOpW3zFwaZnjd4rmeHcX79G+Dr0/mUzPG7xXM8O4v36ms7opptW2W2je72ur1G93tdXqN7va6vUb3e11eo3u9rq9Rvd7XV6je72ur1G93tdXqN7va6vUb3e11eo3u9rq9RGom53Uu7ZbZ1eormeHcX/wf//EAEYQAAECAwIHDAgEBQQDAAAAAAECAwAEERIhEBMiMUFycyAjMjRRYXGjscHR4RQzQlKBgpGyMFCSoUBTYpPxBSRj8ENgcP/aAAgBAQAGPwL/ANNW/Zt2Co0rHE+t8o4n1vlHE+t8o4n1vlHE+t8o4n1vlHE+t8o4n1vlHE+t8o4n1vlHE+t8oaY9FsWzSuM8oVqj8+mPm/EldeFao/Ppj5sIZmbQC7klJ0wrFqcDlMmqtMFKhRQuIwqC6hlAqoj9oceWXbKBXhYZXXhWqPz6Y+bCCLiIQ77eZY54TMoGQ5crWwoQRvispfTCZRBuRlL6cMrrwrVGBKZl3FlV4ySYS2iZqtRoBYV4YeNdWrwhSpZzGJSaG4j8N6XbbZKEUoVA1zV5YcaeQ0lKUWsgHl6fx1OuKstpFSY411avCC3LvW1gVpZI7cCVTLmLCrhcTCG0TNVrNkCwrP8AT+HmPm3GLUd6dyTzHRDjB9oXHkMKQoUUk0IgLUN7ayj06IceVozDlMKWs1Uo1JwyuvCtUYJTVMSm1T27iZ2nd+HNfL9oh7Zd4/HnNmcDb7RotBrDb7fBUM3JEtrnsiS2yPu/h5j5tyCo763kr8YTNIGS7crWhCSN8XlLj0dB3tnPzq3ErrwrVGCU1TEu4s0SlxKifjHGurV4Rxrq1eGCZ2ndEy42opWlFQRFLcxMHNSpVFpyVeQnlU2RFWplxHNW76QoOAJmG+FTSOWFOuKsoSKkwpMuoyzOinCPxiri1LPKo1irLy2tVVILj6rawsprTmETXy/aIe2XeIsNn/cuDJ/pHLASmbmSo3ABxUVmn3Hn15wtZITzQLrbyuAjvjLfXfmQi4fSMYuXebT7ykEQCHVOt6W3DUQ2+3wVaOSG0szDrScSDRCyNJgOzMw+60AcgrJrBsumXb0Jb8YeU86t0hzOtVdGGc2ZwNWszqA4k8tY9HcO8PH9Koltc9kSW2R92Ay0rRT/ALSzmTFCt6ZUfZFT+0ArbdlzotAphLc0svMHOpXCTD6mHFIWE20qbVSOOzH91USzpNVFNFHnF0MMsuKaWs2iUGhpCFelvqoa0LhvhDieCoVEFpiYcaS2kAhCyL88Vcmn1tNptEKcJBgGlt5fARFXJheqk0EWvRH7PLizGRMOoI9knuhpauEpAJ3Mx825Sonel5K4CXEhSahULd9s5KBzxU3ncSuvCtUYJTVMBKQVKNwAjiUx/aVHEpj+0rBM7TugpWkLSc6VCojFhy0U+wyK+UGxLOK5LRAhx9DOIC77ANYdH/Ce0QxLjM4SpXwhtpPCWoJEJQygA6V6TFH2Uq/q0j4wtkOYwFZVWlImvl+0RMvr/lUSn3jUQt901WuEzr43xXq0+6OXBMKJqEqsJ6BDrj7bi3TckoAuEULMwRqp8YdUyCloqJSDoETTWhKgr6/4hrYjtMNsOlQQQa2c8UMuVc5WqFIl28WkmpvJwzmzOCUCRv6GUqb+maKG4xLNuHf2l0POKZ4ktsj7oee9xBVClqNVKNSYQ1iXsbnWpKRefrDzBZeqpOTVIuOjTglSq/Js/S6H2PcVQdGiH2DnQq18D/iHvdb3sfDzhsL9tsOD4w2Cb2iUHuh9731kwt88J5X7D/piXV7BboOmt/dDUxYDlj2TG+JdaPRURZtIdVyi5YhCBmSKbmY+bdSxUamzSGEVyQitNzK68K1RglNUxKbVPbuJnad0NSzZs42pURyckNMI4SzSN8U46rlrQQ4ywiw2ALq10Q7sT2iJRzRRQiWdVwUuAn64Ti1pXQ2TZNaGJr5ftEJYRdpUr3RDjDootBpHoLytkT2YJpB0OK7YeDy3EuIpQIIzR62Y/UPCPWzH6h4Q7iVOKxlK2zyf5hrYjtMM9CuzczmzOCS2SeyPTGxvbnD5lYJLbI+6JtIz4s4Gny69bPCCVC4/SPWzH6h4R62Y/UPCES7ZUUIrQqz56w1MDM6mh6RDq1cEtK+ucQ00by6u89sS8wkcA4s05NEf6g3WmMaydbN3/tASm8m4QywnMhITBlnSLYyrjlJ543hxDyefJMFT0stKRnULwPpAWhRSoXgiGH1cNQv6RduZj5t1LdB7YZ2ffuZXXhWqMEpqmJTap7dxM7TuhmZQKpbyV80NvN8NBqIuk02+W3d9KQp6ZFHV0Oal2iHdie0QprM4MpB54U06goWnODAbSpLqBmDgrSCi2llJzhoUhe1PYImvl+0Q9su8R6S0N+aF9PaTAWk2VA1BEBf/AJk3ODngzsukrr6xI7YS8wuwsRvkolauVK6RZZQmXHLwjE0taitZcvUc+aGtiO0wz0K7NzObM4JLZJ7IcYdFULFIcYc4STn5eeJLbI+7ApSUkyqjkr5OYwcUQUK4Tasxi+Sv2vlBQFCXb5G9PxiT2YhxQ4TRtjvwOPnM0n9z/wBMTDVKkpqnpGBqvBa3w9374EuNLU2sNjKT8Yo+yh/nGSYcZRLBq2kpJKrUJaaQVrVmAhmXzlAv6dO5mPm3Ut0HthnZ9+5ldeFaowJVMtYwpuGURCXES1FpNQbavHDxXrFeMKTLN4tKjU3kwQRUHQYtAOM8zarv3gKDZdWMynTWC8+xbcOm2RBcl2cWsizW0TdgpMMpc6c/1i4vN8yVeMVUHHtdXhAbabS2gaEikKeeYtuKzm0od8FyXZxayKE2icBJlbz/AFq8YK5drFqIocsnAVOS4C/eRkx6x8fMPCBVC3tdXhFhltLSeRIpAcmGcYsCzW0RdAeYYsODTbJ3KmnE2m1ChEcV6xXjCG2xZQgUAwJXMM4xQFAakdkIcRLUWg2gbas/1wFKgFJOgwTii0T/ACzSPWzH6h4RX0fGH/kNYASAANAhSFCqVChEcV6xXjCkyzeLSq83k4CTK3n+tXjCjLNYsqz5RPbgo+yhznIv+sZONa1VeMXqeXzKUPCKS7KW66dP13Ux826ZZcDltIvoOeG1s2qJRTKG5ldeFao/Ppj5vxJXXhWqPz5bFqxbKhWkcc6rzjjnVeccc6rzjjnVeccc6rzjjnVeccc6rzjjnVeccc6rzjjnVeccc6rzhp/0q3YNaYvzhWqP/g//xAAsEAEAAQIEBgICAgIDAAAAAAABEQAhMUFRYRBxgZGh8CCxwdEwUEDhYHDx/9oACAEBAAE/If8AhvJSym+v8m7u7u7u710NR0/v0/c3P5PU2/v5+5ucVGAsDledMGSJEmibUkxqjJOOUzAWXB7pV9Pi2+hhnT24ept/fz9zc4sXKkTJq2eFpkcf31qyJgmX+x9PG3V3pl0wrakjPIdPzx9TbjONTYbrsNROLx0rB8CV5IBaPU/juFmmuOQa02AJTMwM1r/Pg2iawdOCREZjNR0HCdZpLx6DUKbYVKYP8d7m58ICFHJhmPx1q1a/RDUpLEZJV5CPScj89KutJjtJU5zNYvH1NuM/d6le30/Dwn8ifzf+DQtAYb7U4eaWKzHlw899o/x/c3PjcIxrF06v3WwBGQ/Z9NWYu9OXQqEvDkzO2Hf4eptxn7vUrbUcQBfgkl4SjuGYsNCBSJBcaVtUYH1QyEar3LNWTBhhbAUWp52RQojbyjk6VuesrzQpEM3hWBT9hQTLnwn83Vfe3jc/incrISvei5+HaVS+aYHVzy2q9DK7egKhreVO6UbsYghtp0pE7MqxWY0ixoMrjwPKrOteqi1ljGpFhi4T7VDI4KYQ1+MJKZi3YCfGFYA4EvQeuHbh577RwtQGAnZjN+qWf+YpUnI4lGkd/CZ3JzNmpgfqJi7c1Jr3z805OdDK3D4ptdUpC0Sar4p2kOXkHBJp8ZG2o3o0nQlWzZKkaUsjAEneelRFzCS3N2KxcLZx8goWGxnDxzio44XWk7q1J5KJunx9zc+NsrsGvR/NEgRB1GShInWD/WPSldJLq5/D1NuM/d6lPJGAlWvfPxXvn44eEoG+4kA3KnCaQjr+1d08HnE0RJ0ogYu4GONNfWWittUgjSEHd8V5/kligaghjrrSpyloxysVIXPVMCBHjHhPeBR5iyFSC9K6bGxQtUJbM+zwn8MWiR+3rUTdVrWxTGmyAQjerYghOyWKRTbXQn4cJaBHE4sJzoyg3Lw1ZzNXj1X4wMklDeM9X6pwCDCOVXXXK8p+D/uvfaKzatW4TS02GYq40+UX2jdlKgqFHzXVwbN650T+FKgWfczO0VNLBuR+13qzGf2zyaHeHlQVnRZaF/BO1ZhhPKbeKghFi9I80Ame1C/KmPNrNE2THrQgZqk+B/FFZj7dnzf8VIGnK4wW+PubnyzdkOgofVOxyHcr+j4+ptxn7vUr2+n4eEokO6SGMeU+Kj4Dlct6Omf/AAwftqbx0mxBxeEvn1O9mlth10MVDO48GUV0GBiMZ8J0JjE3DNaukAaOibNeSI7/AJnXhiI/aUu/UGlZ3Hj797A2zF0RAcEv1Wv5w93orC+8A7nX74e+0VfTcYZ2ngAeKAQHi9+7l9hG5ZDeosemOidqZKyQ4IPsI60yiKc5u+6tNjQM1+yHvUhYx+J50GaWBqtQUXZrBjSX4QC26N3IwvDh5rJCMOcZFI4eThGsfUEdRT4n4+5ufL22qvf3fH1NuM/d6le30/DwlFGTYMjEPf7KdAAzEklWcEcbZemdPQJA5DAaRwlglGScA67NynpNFMZlx58EaegKLg6qvF7P5urE7bBfQ6Y96dWFiAlKZCzctXJ/dQdRbykZemPen4ZvJNEzKNmuGeyNMV7L9rbxRj9qZXNwl+q1/OHu9FXYANt+ZR54LQchzK99opAIkjrU6ZBE/ufdN15rne2as4OsgdqvyFm282LtHCECJNyi3gr04Qgy70jwUj+Sh1j64ScTN0P2HCKUekONBMBzpvs8VlA6PNrWN6fk0Dq/xcZhJnyX4+5ufL22qvf3fH1NuM41NlsuyVE4vDSMnwJWkgF49WgLGhCyUllLKY7Ax0rQviF5YeKh0UG9RbJq7WVdpDmuhwAkzBFnIXKmZmhjwaxyTC34FYHJIyrT/wCPIILGgrMtHEY5rocASSKwB2KO3nAEnJY4JQ2LS8Y9acINyISqycOv4UXBdOqzWVZpLkmrUOioWqbZvxxbRNJOnBKJqs6YDDHgdO7Cx1FQptlUBk4CphCcjQ4m138MPHD3GY1UPbCrERgICpSWMzHE4JSJZDePVeAZJJYKkR3g7iOZ4YVbBZOWIqWYqYN+jU7DjIvApdmUCVzV/l7m58pChENMW9D8JmwzK/n4+pt/fz9zc/k9Tb+/nzUsovp/Ju7u7u7u9NDU9f8AohP/2gAMAwEAAgADAAAAEP8A/wD/AP8A/wD/AP8A/wD/AP8A/wD/AP8A/wD/AP8A/wD/AP8A/wD/AP8A/wD/AP8A/wD/AP8A/skkkkkgf/8A/wD/AP8A/wD/AP8A/wD/AP8A/wD/AP8A/wD/AP8A/wD/AP8A/wD/AP8AP/8A/wD/APw//wD/AP8A/wD/AP8A/wD/AP8A/wD/AP8A/wD/AP8A/wD/AP8A/wD/AP8A/wCf4r/Kvh//AP8A/wD/AP8A/wD/AP8A/wD/AP8A/wD/AP8A/wD/AP8A/wD/AP8A/wD/AM/4Hu3/AA53/wD/AP8A/wD+d/8A/wD/AP8A/n/uf/8A/wD/AP8A/wD/AP8A5/6SBP8Ah3/4v/8A/wD/AGv/AP8A/wD/AP8AUx9//wD/AP8A/wD/AP8A/wDz/wBTJf8Aw7/8RSRCAjWk/wDIWv8Aqde+rsWg87a5f/n/APC5/wDh2rYsRIS5m5e4qaCP1BBd+42KYrCC/wD8/wD/ACf/APDv/wAVOlqnjo/bb1X/AOonKo24zCjrOj/+f/8Ah/8A+Hf/AIviKYIGrxUsav8A9RXUR3ryabkCz/8AP/8Aw/8A/Dnf/wAl24MqqD/p23/576nEYz443hK//wCf/wDsf/4f/wD/AP8A/wD/AP8A/wD/AP8A/wD/AP8A/wD/AP8A/wD/AP8A/wD/AP8A/wDP/wD/AP8A/wAP/wD/AP8A/wD/AP8A/wD/AP8A/wD/AP8A/wD/AP8A/wD/AP8A/wD/AP8A/wDskkkkkgf/AP8A/wD/AP8A/wD/AP8A/wD/AP8A/wD/AP8A/wD/AP8A/wD/AP8A/wD/AP8A/wD/AP8A/wD/AP8A/wD/AP8A/wD/AP8A/wD/AP8A/wD/AP8A/wD/AP8A/wD/AP8A/wD/AP8A/8QALBEBAAECBAYDAAICAwEAAAAAAREAITFBUWEQcYGRofAgscEw8VDRQGDhcP/aAAgBAwEBPxD/AKblURMTFnKSe5/JMzMzMzM5XGYtnrKOzXuNf897Gz/J7m5XuNf897GzxPkVyEXclzCy7TpQ1ZMkBmJvF8Ywp6pAR1G49TihQXgG5BdUkwsY4pUrCxitq7Au8qML8Pc3K9xr/nvY2eKo5EhNRrNMutVh2wdypB5huv8AbwhwWKn7PaDPqy8kKghkbAxerY2NHj7m5XuNeE2cFLKQ5DUhFADNWDGHf4ZS8pDZIccw/jbfghRW4cgYumFBrkSCMyGatfT+dNYUrCwcgXscMmcAJiBbaQnhCyqCyy45DU+1ACGVYLoMf+P7Gz8JA5lTVMna5yjOs/1c1GydsN4pcZAR1Ekal2icaxm7W2UrAIV3QXXthqwUTMAAaAQcfc3K9xrw9ZqV7nR8PH/R/Il5T+c8zwd2Ek31HZLNK7YYaOY7jbyY15j6r0uj/j+xs/GDGOSGp0fEVNvMOZ/HwhlUzZ7IYvVvygyo3PT1Mndfcj4e5uV7jXh6zUppYSXQAuF+3wyy8f8ART4EETEaHobgk9zGopbVA7pRCCRaVLYSMjG5UAIhmMEcE03Nb5wQygldj2xSssqMW65ciI1cakBWqq+aaG+zZTwMPXGncgCYCwCYQTfHgl5SiQtm2zNfmrsNEHFYAaVyxzrFK9FDYSpOrm2LFxal1/sdA7uBmmehgiHIDHrLvUZMzQO6FElc5FE2m47nUawHcmY5juPfk01NBhAmCYE0O1EysbKZYYIWMc8saYyZZYn2XqGgU2dIilYgzV4+Z4SPAV1EGOYyPfOr23w2MA8nB6OBXmPqvS6OEpGnFbmwM3WbGCLILk7kS+Fg5ETRhfYSK6YUiFbK33JxTUZdN36AgpFi7cbyTXpX7SuJQF1Syu6k9aaA1VFGAiJIbr4p7SAwsMOCLCOZTWSATkklIhqEQlbqwl4Q6VOCtUWFbAi3xnpQeFwDliux3WxmmLSbAodAt3l3oeOCJm13iKjbw4KpO6k7lYw4PNCfj7Gz8YlTd5jE6lucOVNlIIxoiJ2ejcvWQ7daDHvYOe1GCgLB8Pc3K9xrw9ZqUYNVYAuy16V+V6V+cPH/AEU7ElkQR5jVmqyGQ2kjonnRp2CUJ5xMeaK2IMGbxdmDFvhnSY8penWmes1eUIO7PSsSFgc1ihAxC7FzquPTLKmI1kxA5Jf8dGmABQUiJAhuzhtyOCV0lkBrYH6uQLTeSku2gbBYogZKToObdMNDdtSDZEjkotzZetLCEAgMF5xSJzjIpEpDiURoUVDiC2G6WLY0o8EjoR+leKpcFGKxA2FxR+qiC1qyeEPFSZxKSt4jNXLj5ngBe8LeEnUtzhypFIkJiVNqWDuRZ55O9869LordiewpTwSirquL1afufQXM6wUMCanewxMBCziwY6cGv24von6FIrnByxHqQ1KmJJyH4j3q33I/byaykN5D8ZOlTuuK5Fzwh0pdYk5LbxFQyu7dg80A7HE5iXwlLB51htMiYwwkyMWYo+57gnhnwUXGCsljykIbImpWGwAOQfH2Nn5D9BMxugvlaPCuAuwCHdfj7m5XuNeHrNSvc6Ph4/6KcGLlGMII5K32IwWsYFA659Ma33JkDoBPdaj5JAlcQW6rjXmqdhA62fP5WLETsSS9ChEk4AqISMIwmIxgmmJwSsJGK6Bi/gZtGrCRzMk2S5XnDfP6OpocMVQ+5v1L0FAigISM6rB+yv7qn+6pyYGZDmiIDVnGvFU+P9nx8zw95oVYu9gy1cvtOpw9LorFQYugseOF5lBBgIpF1zu4Nf3VP91So6yQsTdW8Bm6YVGSwh5/+E7UyWRaoQ6qQc6ad0J6sr2lo42JzjRJOgidakxjD6vKJdKBjKoHNwrBcIc4MerekxEEkJcwQyOZDTRM3u7MnmlqgxSEOakOrRtyJEsjWDCI8xReqT1+PsbPy8s+lers+Puble414es1K9zo+Hj/AKKLCSZsGIeU2eZSTQgnT8psAWYyieV3TuoCIIYiLRaDSIjUveZrzVJFYDKck/EUf/KWLih9uOpZLlGTGQBWDQRGNlQp8y1kKT1VeyceCXlKMmVcMcw5mJtJpT1IgiZJhQZZAd9eTidTKmaJFpiQQAzIx0icJiKAdkzEzHSoiS1EOyfakxy5/QoHqIpBiFVZWxi14qnx/s+PmeHvNCjdkIfxNxublY5JjkmSbJfxjXpdFIJDhTgFrOk5tHScTC8g/UOIrj+judZKMYZ1w9v9qdEXKQvNX7QaleJqHy4DkWfCvThFy1jnYeCkZEoU5lzukdeEjSZH0w8jglEokYcX1MHOh0MzGTzgTsFGMjRXASGCMk4zSZEQB7hqtjOr+Si7uqsbSsbfH2Nn5eWfSvV2fH3Nyvca8Js4IXEDySoCKCOaMmMO/wAMpeUlusuGa04MRIRqK0mSI7J4QUVQWC5jpBLeJMqUzmJYMCCwhhSqfkLKso5qYhvwidJguJyS50aYlbQP0XzTEj1MlDgSyAD+9atIFLBgAWEMAyprLCFlWkYuuYcFl63sP1DtTiWENwTcVPHB4UWZK6xA9RpdUDabO68tLCrNTrpBtERqNQraQAeMedCo+QMiwrkhiu9CYzMMmJDZUw+IawoSUk5iPZ4ZCNAAF2AICWXvwgTiBkMY5JPWo9qCMsIyWUY8E5COIk+Gm0NupOwyEcq/uqYtm3I7Nu5RggDAMKGOQRNRITtwyhLFLdb81XguuG/9NJ84A3UxhivCABvS5yS50ab1ewHpZg/uaUnYkfgfNLhyxS681ler8vY2fk3MwSVGwF7bU5BMhDJEBmGnx9zcr3Gv+e9jZ/k9zcr3Gv8AnsqiomJs5wx2f5JmZmZmZnK4xN8dIT3K9xr/APB//8QALBEBAAECBAYDAAMBAAMBAAAAAREAITFBUWEQcYGRofAgscEw0fFQQGDhcP/aAAgBAgEBPxD/ANNzrKiYm5nDHb+T/wD/AP8A/wD/APN2RN8dIfdew0/73tbn8ntbNew0/wC97W5xNyBYIhsGRxwN41pMUgxKROU2w1ooYRRNyzxJpASpjLgGO7yKhIScF9DDNtTjbh7WzXsNP+97W5xMJCXKylLDZj3x61FvIdhn1PI8AmozZ3M5dCDmLnUqczcuB0L9dTj7WzXsNOEYQobiJ5pUeEFXICXP4RSsQkuNui/xjtySCRZGayNaR6AXRMFyC9v5yylICQl5tuERmWMTKv0XhI1CW4faVD4BVwAJWzP/AI/tbnwhkwR2cnvZ2ZyrLrWdEuPfHaSjzhETcxqHOb7zyd78isrksargd8dpaSiUVdV4+1s17DTh5n0a99q+Hm/t/kC8f/OeO4E7Nh/E3G5WKssckyTZrx33XsdX/j+1ufGdObO7R6nkahXax2B+nkdajPF7mcDoW5zrUa2vvm7Yc5+HtbNew04eZ9Gh1kANVEMbY/CKLzf20agARwaTCBiMdTLatreAXsNKpZnAO8JcnZqdCzxOImI/Y/1LPkaAo2bOnBsGfNmdCo8xoAfVERktwfvD8ofKAxK3VLTlbgF4+hIK7fd0fuhzKRBBdW0ZuFYZjCAdzAMaH60zBsJfhu9jFyGwmxdAvVcOkFTP2gF7DTMDKAGd4s8npFYg2bJMk5//ACgQJkoWMCUbXaaP6XAQSTcJwyo7BmN39I6LvRLCzgAvLewcfHcI5iZGYjHZLn+1aix3xJzMTqZ1477r2OrhFyCwDHcuR5djEMDZsHlzjVpMMMYQdYmhqmSBbYjAXJI32E8iQBxsWRiGK9i/KItAZDQbnQGKIEQAAkt5hzA80HDkSQEkiSC0ZNWWVI8xhoY5aiDYtFxzF61AksBAQLqMbR1pxLEL8N3xjsx0LF1BXms/htSO1oudpqXnJiAMbJD2d6wGQDkLHx9rc+MuoscmT0b8poWQCJOoiPjtbBrPWsN3+sekUipK/D2tmvYacPM+jThwBKtgDFXIK9i/a9i/eHm/toyoMEUTkl6v6JmcT0vCM45UmI2sCx3ifFKLUiUhibGLgWxoE2cKDKuQOcpexHWsP0K8gmljUm0rHIw640NYGkyuZh+6VMVAEGSRWSxGOF+fAKyParoXH+t0ol4CD9XdbtK6hoeqZcjPV2L0YyEC3RP1B0oABlRUlywGY/aHBJvQwAkBGCxdwMXahLiA9Qn2rzFBGiECZi6GSfdTwBsQeRfNCoIgYC0zkHHx3BzrMNpQ9PqaEQRkajpEw2Zucsza2Vex1VsvHdig4gADQMqOGXC2EaSJW7UbmiYbibmDE4FYFx6g+zQAZReeZ0ZKgbAQ81/Sdqv/AFfXDwFZmsua/cagpYA5tnyL1rYUHmF/M1BrYebnxFOBgm8kR5GrqYQkvEI4SSWhJuU/IPNHyR5pT8lcbvZhSeTOlYrSVjdn4+1ufJYpYjoKHgKe9sTG6ovg+PtbNew04eZ9Gvfavh5v7aKCbAHCWb8yLc9YrDrKv9c3CuXhQr1VjsFTOFZYDBQwA8V4ijVeV0ue86wBwOcMeaSLPB8FSCSJI4N8nJw4BIr+QauRthd07U7shPLUdzCvACePw9HV4YZD9RPZpCZAVFhItZMSv8Cj/AosqXxBMYmZXQ0rzFHm/R8fHcPVatX/ALXVo5/SNOHsdVYIhN1Y4RQKEUkiSYDlhiV/gUf4FAeBBITFgDFcjWpdbuTl/wDQ96AOztLLsMvKj7YaDkWO8FPLTCE6lnqyPSoCJ+slO0w607SAFXYrHHa8pcOmFBiRMMjuC652ZKEHbTuX8UUKrgMi8hBehTUBCEbiVhpETkgnaY6fH2tz5eI/avd3fH2tmvYacPM+jXvtXw839tMPDFN0mTnFzk1giCPJoul7IT3mPFLnLJjN5vLrMzo2grxFDsEuw223IE7UTTAJ7Z1G5nTFCN1BPMROoE0XKLBUx0AO414vgBePovPctOBkeTg9N6XjKERwTOm24W2nMwejnQQ0MbgyzLRnDWY0mRseHUcnepgughe4/Sgj0ZYOwr5jWjbAwAgLteYo836Pj47h6rVpr4ST+uSWaw9hho5juP8Adex1UKpKEAFc12ajnGDtDQECDAYm2ibPSKxAjv7/ANKLIDOEHIw7y6Neeqc2wrm3PIHXhHWKvyufKVKzAIPJs9hnhHhhiOuPgeBs0mEkwPZpQiWTYd0e60jucQDEMksucYRRlgSr7joY6VbeBWNgA6wE7/H2tz5eI/avd3fH2tmvYacIwhS2UxzGp8IImQkOXwilYhBYLdAow8JcSpPboZ8JPW9NANiCOkyvSaNwHAkxZbovmicEZCC4JNg1eEg88YweY2epREHeR/EPFBQ+T/ZR81s1V85bVc4KCTFVui4rnQyCMlheEyDJawoUsAj/AEl3oJEDJYvzAfPAI5GVjpNzolBgPa/FAUMuh+y/ulTm6yz95UzkjKSXQJuOhTuQ4kGDJcB8/FsoSRgYeTbhExUoq2uuO3bgvmjKQN8MxjpUvgETEEhLE8AiomCMJ1owQJoHzZeryr/AoAlBsDyX80wVVxW9NXChHcucIpWoQWC3QOAwLC3+tIwiSWDHkHBqX2jbqNnqUNHXD+jGhY3IX6jxRpMcBwOhAdD5e1ufIPoCMAmK6lSYxBci8rq6/H2tmvYaf972tz+T2tmvYaf97OsiYmLmUk9/5P8A/wD/AP8A/wD83ZMWz1l9V7DT/wDB/wD/xAArEAEAAQMDAwUAAgIDAQAAAAABEQAhMUFRYRBxoSCBkbHwMFBA8WBwwdH/2gAIAQEAAT8Q/wCG+HAbWsYzs/yVVVVVVVX+zA3ZnGJK/b2f77wf5F4r7V+3s/33g9U53g+ORIOEhzG9MrUSGDIaZiaBctl2Qj2R6uhJwksCowsL2XFB1JAleA3qA5aYqhCZCcdPFfav29n++8HqmcgPQhcTm1TQGlEQw0GQcCgkUwiwGePuTXoEoAq2tdoNhK3APBHcLrTTfEqynxhl5Gp18V9q/b2ek3BbCyyzEybVblRzbCUBKhKnXj0YTsX9CQgls5CP47gzRyalFllgtFLn6YxdNhDwTMfzyTqtrZYCvYlrj0W7kQkEFLjJYl6SgXs6EpES2rFYDleqCUBKhKkb/wCP4PoWq3Si57N2TtLSoZUFDDf2kJ4kpS9gYshPDUxZZZkfePIe9QTJq1LdpYnYF0poD5ZRK+Xr4r7V+3s+vc9/A2/5aC38TjpAQbZGFbiKJs1O3nIEduUp751P8lhb4PoQoiMNYG5IuBc7PJspo5tQsCzxB8prW99ouFb4h3l1qVxZa3J8oPY+h4r7V+3s9dwUIeFlRAKwDYrj0eP0P4G2lToHEouO9G+YpimES2zbvSopya2nKDAvtVlZQLIWBkAvZEKfRcAxA0bIlwYwIGFY8YHl0tdaTsCjg7moWsMjdiaG9xEL5S1Z4woHkGHBZL4oZYZEkJgCyrxL56oLTBVAgCSEPkDZSbwlFjylEwAF6qEFHUskmgoTe4y4YBQmDSyGC+yWC11saocwAW1sGS6Sy3zeiqyEB3JYHmmoFcWMomV5ZhfM3FK1yEjtyhk5s4Slci1KCgCwCeDapeHSpsO4C7jNISJhJu53mQ4Kvyy8gwKYJVjr+Jx0JWFmAVHdKu06lWUmFbYeMsXukD0MLXGkl+iWOGFvJhdmDOzKlkZtIAN4ABoVvsJzmFBjNCRSwmoRzLLIxiGyEOwImEKSCILMje3QKK5GZGDurfegNk+DhIGJNmqlFYGBkIRiEZko6B3MggPwlTeBdDJREsP2qcBcpCcIbqDVLo1oJMvpIWLqha6JVCd4MAsF0ll5u1IqkjsRK4IjWmVj9GI1KbBco3ACECFY2utvT4PpTo8Y3A23xGcxDWriFQSOnyHck1aQQCRuIY1BK45U21a1Kluv36PFfav29nruMsFMswAF1WCDPoChfwNtQ1GI2JJE4ouQQj3LICAzNrhzFJwEJuRGME5J/wDKDziwREmonAutDMphKykf2/NGtQlmEm4y+2o778YBCfdoYdQquuSykxgwAUxxgBXGQswWwwSJaoaTGiJwooYomcHRBcQ3mEOPwq6A02HScDAGgABsUL595gZ8TbYd21NVWTDRDhT3FChIRb2cZUFjBm7SOzNgHImRGlCgcQVS4KSCFlxTdENcC10v5nxYXMAhC4aYoTLmTl8JxYK2kdkoTLCwEHX8TjomwqbLkOwI2kWlO/MGihuJo085cy845m3cJcOi02wRqJFYPdApJDDysqeVVpO6KUIsMioCCQsctQ36TUN2aRBkvE9NCCV0jztBpJhJmZJ9xL3oZUFPwoOyKabndxJqYyBVIb6E3ET2oRRcFcgTgiTy9mUey9qHtAq5GTBmXyH2igRlXcScOY8VOGu2JPSGEuGGEGKjwWUSvgWW17j31Pj2203ACGYRVpG1LAgrKAExEsHHp8H1Jq8vKXwwCna9iIUvx8Hp8V9q/b2fXue/gbaSKnBgAOyU7kMKUzMj9Em6jQJXgpseCYSXuCQZLODNYsA0lC6uVy9P5ICtI0CXyL8NHQb1wiXsS0BEQEiNnoI6xRAujAkkb8dEB5qhJAhDJLKATdQkuk5WEMOd0EJw1Pxn39L8h2bHQbEPvlJB9xH3oHKFGcOWRIcBJv1zZv8A4fl5NlmdPf1f9n4nHUVDWZjb65FZ2O51Whqp8hDh7xHRXmvCggLS0N1YTfrmzXhyiExKA3ZYNO9WP5iGXCfcvu9igg/SNd2FzWQgCrxJ7BKoHiDAAYNBFW7MWRxIMN4XZRxJ65RAfKVKghDUArlZe7QbnmUkgmQblyG5pa6pshqZU7L7sa0bIpGFuoC4Xc2oZQ1A2ETDRZgliBghpK4c+nwfWlfiPT+K+1ft7Pr3PfwNtQdYl0tPsQRd6EQu94JuamkUrCF3pWGOPnTWosGIYFrELMkMsy1/N6LHAkcBTaZvFQm+BCbJojolkuSUZSrJEwEAAgFQNKR5pWztEJ4SfQKQWoEvmYyXkzRxC8lM4s6FJEdxChLGRRYsTZFNmF4aheKTCAAGSAAuRoWJahgAVZRZNnjYaHHS6HvczfNWfeyQmwB7ruSlZAbbC6rr6/8As/E46ipLPjqsg2QEdEKg+KAETfiIPjTotMsCEFkpielAlraDAuF8yDT0AFARCEYNTNpGAoBgyFiO9yDiaPzd5FyL7IEslfic1gxrF7gdviHS4nD2pfxdKGxiJfBm0oOy9LCslmsfsfZ6SDU5PQkybjZLXoT0IU2bdgkmGwM2vYM2yrDlCMYRLOTa9wxaCu/AarYLtTO2GWRFuWHEenwfWlfiPT+K+1ft7PSbgthbdImYN6vyo5vhChhBhHrx6MJ2LehAyyWMDFJeAYUEIjkvEOaYLIgC7QbiBfGIg6sgIGZCE8XwgiLzj9oSABBhABipZ9X5EEGL3g0znoUZIcBdwewlDC4yvkvNAoPI+EiTveZ5xU+LkUXVgyu+utceJWC0gsFgxepu8XlURBi6SbZpBGS2L1mHUvKrAAL4ADAU26WYShWrkykmnRywykraVGCtEhc0l2FHuAVMd5pkUyKwpkkBcRCRGRrTCkkd0MvLmoZ9W5AEGb3k1zisftCQKIcZFMemSdV9bJKE7kNcejdKI+GASlYAJVeekCdVMnMN0SqTOWMtYDleqSFDCDCM7dIIIMC2RsnDQ1QCUFLI5MbANx6ZgJMyDRay2eNlu0aVAQDYDBwUJ+xkDJ2EUrj0TEBzKRAyw7FuiYCIilZbEC+wFHcklYShhF3ETrg6Wh1AAnQI9hKlsEocvguYMZnlpk+QgBi95OmYvjFQbtDQ5mEKJvCoerwfUlG1BSqWY7lWclO0khdnp8V9q/b2f77wf5F4r7V+3s/33hwG17icbn8lVVVVVVV/owN3YzmGv29n/of/2Q==)"
      ]
    },
    {
      "cell_type": "markdown",
      "metadata": {
        "id": "YOoqZOocDfUe"
      },
      "source": [
        "# Abstract\n",
        "[Hacker News](https://news.ycombinator.com/) is a site started by the startup incubator Y Combinator, where user-submitted stories (known as \"posts\") are voted and commented upon, similar to reddit. Hacker News is extremely popular in technology and startup circles, and posts that make it to the top of Hacker News' listings can get hundreds of thousands of visitors as a result.\n",
        "\n",
        "Our aim here to analyse posts with the following  special keywords in `title` of the post,\n",
        "\n",
        "1. Ask HN - Posts asking questions.\n",
        "2. Show HN - Posts to showcase some work.\n"
      ]
    },
    {
      "cell_type": "markdown",
      "metadata": {
        "id": "ajyzsgf3FKUU"
      },
      "source": [
        "# The Dataset\n",
        "Our dataset contains following columns,\n",
        "1. `id`: The unique identifier from Hacker News for the post\n",
        "2. `title`: The title of the post\n",
        "3. `url`: The URL that the posts links to, if the post has a URL\n",
        "4. `num_points`: The number of points the post acquired, calculated as the total number of upvotes minus the total number of downvotes\n",
        "5. `num_comments`: The number of comments that were made on the post\n",
        "6. `author`: The username of the person who submitted the post\n",
        "7. `created_at`: The date and time at which the post was submitted (the time zone is Eastern Time in the US)\n",
        "\n",
        "## Note: \n",
        "1. It is simplied version of [this](https://www.kaggle.com/hacker-news/hacker-news-posts) kaggle dataset.\n",
        "\n",
        "2. It only contains entries in which there was atleast 1 comment."
      ]
    },
    {
      "cell_type": "markdown",
      "metadata": {
        "id": "EYnLKsIlGUes"
      },
      "source": [
        "# ❓ Questions To Answer \n",
        "- Which type of posts(Ask HN or Show HN) receive  more comments?\n",
        "- Is there a relation betwen number of comments and time when the post was published?"
      ]
    },
    {
      "cell_type": "markdown",
      "metadata": {
        "id": "0_G5LTHQI_lz"
      },
      "source": [
        "# Step1 - Data Extraction and Exploration"
      ]
    },
    {
      "cell_type": "code",
      "metadata": {
        "id": "50WN8L_0C79L"
      },
      "source": [
        "import csv\n",
        "\n",
        "# reading data as a list of lists\n",
        "with open(\"hacker_news.csv\") as opened_file:\n",
        "    hn = list(csv.reader(opened_file))\n",
        "    headers = hn[0] \n",
        "    hn = hn[1:]"
      ],
      "execution_count": null,
      "outputs": []
    },
    {
      "cell_type": "code",
      "metadata": {
        "colab": {
          "base_uri": "https://localhost:8080/"
        },
        "id": "W4O7hCyjLUNB",
        "outputId": "b68120e3-19f8-4d0f-f6fc-ac67e7eabff2"
      },
      "source": [
        "# Dimensions of dataset\n",
        "print(f\"rows: {len(hn)}\\ncols: {len(headers)}\")"
      ],
      "execution_count": null,
      "outputs": [
        {
          "output_type": "stream",
          "text": [
            "rows: 20100\n",
            "cols: 7\n"
          ],
          "name": "stdout"
        }
      ]
    },
    {
      "cell_type": "code",
      "metadata": {
        "colab": {
          "base_uri": "https://localhost:8080/"
        },
        "id": "l0QjjS8tIJXX",
        "outputId": "9bfa98df-b9e5-432e-a3b6-80b075351561"
      },
      "source": [
        "#display first five rows\n",
        "print(headers, \"\\n\")\n",
        "hn[:5]"
      ],
      "execution_count": null,
      "outputs": [
        {
          "output_type": "stream",
          "text": [
            "['id', 'title', 'url', 'num_points', 'num_comments', 'author', 'created_at'] \n",
            "\n"
          ],
          "name": "stdout"
        },
        {
          "output_type": "execute_result",
          "data": {
            "text/plain": [
              "[['12224879',\n",
              "  'Interactive Dynamic Video',\n",
              "  'http://www.interactivedynamicvideo.com/',\n",
              "  '386',\n",
              "  '52',\n",
              "  'ne0phyte',\n",
              "  '8/4/2016 11:52'],\n",
              " ['10975351',\n",
              "  'How to Use Open Source and Shut the Fuck Up at the Same Time',\n",
              "  'http://hueniverse.com/2016/01/26/how-to-use-open-source-and-shut-the-fuck-up-at-the-same-time/',\n",
              "  '39',\n",
              "  '10',\n",
              "  'josep2',\n",
              "  '1/26/2016 19:30'],\n",
              " ['11964716',\n",
              "  \"Florida DJs May Face Felony for April Fools' Water Joke\",\n",
              "  'http://www.thewire.com/entertainment/2013/04/florida-djs-april-fools-water-joke/63798/',\n",
              "  '2',\n",
              "  '1',\n",
              "  'vezycash',\n",
              "  '6/23/2016 22:20'],\n",
              " ['11919867',\n",
              "  'Technology ventures: From Idea to Enterprise',\n",
              "  'https://www.amazon.com/Technology-Ventures-Enterprise-Thomas-Byers/dp/0073523429',\n",
              "  '3',\n",
              "  '1',\n",
              "  'hswarna',\n",
              "  '6/17/2016 0:01'],\n",
              " ['10301696',\n",
              "  'Note by Note: The Making of Steinway L1037 (2007)',\n",
              "  'http://www.nytimes.com/2007/11/07/movies/07stein.html?_r=0',\n",
              "  '8',\n",
              "  '2',\n",
              "  'walterbell',\n",
              "  '9/30/2015 4:12']]"
            ]
          },
          "metadata": {
            "tags": []
          },
          "execution_count": 3
        }
      ]
    },
    {
      "cell_type": "markdown",
      "metadata": {
        "id": "vMwd9pdFJJha"
      },
      "source": [
        "# Step2 - Filtering rows"
      ]
    },
    {
      "cell_type": "code",
      "metadata": {
        "id": "B9re3EGgINzm"
      },
      "source": [
        "#lists to store different types of post\n",
        "ask_posts = []\n",
        "show_posts = []\n",
        "other_posts = []\n",
        "\n",
        "for post in hn:\n",
        "    #extracting \"title\" as lowercase \n",
        "    title = post[1].lower()\n",
        "\n",
        "    #updating the list with respective posts\n",
        "    if title.startswith(\"ask hn\"):\n",
        "        ask_posts.append(post)\n",
        "    elif title.startswith(\"show hn\"):\n",
        "        show_posts.append(post)\n",
        "    else:\n",
        "        other_posts.append(post)"
      ],
      "execution_count": null,
      "outputs": []
    },
    {
      "cell_type": "code",
      "metadata": {
        "colab": {
          "base_uri": "https://localhost:8080/"
        },
        "id": "ijzt8gwIK1kY",
        "outputId": "b0013618-ebeb-4166-a18b-bdc880ffaf5b"
      },
      "source": [
        "print(f\"Number of 'Ask HN' posts: {len(ask_posts)}\")\n",
        "print(f\"Number of 'Show HN' posts: {len(show_posts)}\")\n",
        "print(f\"Number of 'Other' posts: {len(other_posts)}\")"
      ],
      "execution_count": null,
      "outputs": [
        {
          "output_type": "stream",
          "text": [
            "Number of 'Ask HN' posts: 1744\n",
            "Number of 'Show HN' posts: 1162\n",
            "Number of 'Other' posts: 17194\n"
          ],
          "name": "stdout"
        }
      ]
    },
    {
      "cell_type": "code",
      "metadata": {
        "colab": {
          "base_uri": "https://localhost:8080/"
        },
        "id": "EZgkfvkULCjV",
        "outputId": "a37c3ce9-0b00-4415-8c71-f53659b0c79a"
      },
      "source": [
        "#Exploring Ask HN posts\n",
        "ask_posts[:4]"
      ],
      "execution_count": null,
      "outputs": [
        {
          "output_type": "execute_result",
          "data": {
            "text/plain": [
              "[['12296411',\n",
              "  'Ask HN: How to improve my personal website?',\n",
              "  '',\n",
              "  '2',\n",
              "  '6',\n",
              "  'ahmedbaracat',\n",
              "  '8/16/2016 9:55'],\n",
              " ['10610020',\n",
              "  'Ask HN: Am I the only one outraged by Twitter shutting down share counts?',\n",
              "  '',\n",
              "  '28',\n",
              "  '29',\n",
              "  'tkfx',\n",
              "  '11/22/2015 13:43'],\n",
              " ['11610310',\n",
              "  'Ask HN: Aby recent changes to CSS that broke mobile?',\n",
              "  '',\n",
              "  '1',\n",
              "  '1',\n",
              "  'polskibus',\n",
              "  '5/2/2016 10:14'],\n",
              " ['12210105',\n",
              "  'Ask HN: Looking for Employee #3 How do I do it?',\n",
              "  '',\n",
              "  '1',\n",
              "  '3',\n",
              "  'sph130',\n",
              "  '8/2/2016 14:20']]"
            ]
          },
          "metadata": {
            "tags": []
          },
          "execution_count": 6
        }
      ]
    },
    {
      "cell_type": "code",
      "metadata": {
        "colab": {
          "base_uri": "https://localhost:8080/"
        },
        "id": "Ani5AiM1LsBN",
        "outputId": "46ecd3c7-2af8-4b04-81d8-1fecba0c5bd7"
      },
      "source": [
        "#Exploring Show HN posts\n",
        "show_posts[:4]"
      ],
      "execution_count": null,
      "outputs": [
        {
          "output_type": "execute_result",
          "data": {
            "text/plain": [
              "[['10627194',\n",
              "  'Show HN: Wio Link  ESP8266 Based Web of Things Hardware Development Platform',\n",
              "  'https://iot.seeed.cc',\n",
              "  '26',\n",
              "  '22',\n",
              "  'kfihihc',\n",
              "  '11/25/2015 14:03'],\n",
              " ['10646440',\n",
              "  'Show HN: Something pointless I made',\n",
              "  'http://dn.ht/picklecat/',\n",
              "  '747',\n",
              "  '102',\n",
              "  'dhotson',\n",
              "  '11/29/2015 22:46'],\n",
              " ['11590768',\n",
              "  'Show HN: Shanhu.io, a programming playground powered by e8vm',\n",
              "  'https://shanhu.io',\n",
              "  '1',\n",
              "  '1',\n",
              "  'h8liu',\n",
              "  '4/28/2016 18:05'],\n",
              " ['12178806',\n",
              "  'Show HN: Webscope  Easy way for web developers to communicate with Clients',\n",
              "  'http://webscopeapp.com',\n",
              "  '3',\n",
              "  '3',\n",
              "  'fastbrick',\n",
              "  '7/28/2016 7:11']]"
            ]
          },
          "metadata": {
            "tags": []
          },
          "execution_count": 7
        }
      ]
    },
    {
      "cell_type": "markdown",
      "metadata": {
        "id": "Cog-XnaIMM30"
      },
      "source": [
        "# Step3 - Analysing comments on __Ask HN__ and __Show HN__ posts"
      ]
    },
    {
      "cell_type": "code",
      "metadata": {
        "id": "vZYDlN_ZL59h"
      },
      "source": [
        "def get_total_commments(posts:list, index:int)->int:\n",
        "    '''Function to find total number of comments for given `posts` as a list\n",
        "    of lists and `index` of the \"num_comments\" column. '''\n",
        "    cnt = 0\n",
        "    for post in posts:\n",
        "        cnt += int(post[index])\n",
        "    return cnt"
      ],
      "execution_count": null,
      "outputs": []
    },
    {
      "cell_type": "code",
      "metadata": {
        "id": "FXkuiKBUNFXP"
      },
      "source": [
        "def get_avg(comment_cnt:int, post_cnt:int)->float:\n",
        "    '''Function to find average number of comments given `comment_cnt` and\n",
        "    `post_cnt` as number of comments and number of posts respectively.'''\n",
        "    return comment_cnt/post_cnt"
      ],
      "execution_count": null,
      "outputs": []
    },
    {
      "cell_type": "code",
      "metadata": {
        "colab": {
          "base_uri": "https://localhost:8080/"
        },
        "id": "ZuR-i_93OauG",
        "outputId": "d5a85f8a-35dd-4e74-bc83-efd7f5804911"
      },
      "source": [
        "#Getting Total and Average comments on Ask HN posts\n",
        "total_ask_comments = get_total_commments(ask_posts, 4 #index of num_comments column\n",
        "                                        )\n",
        "avg_ask_comments = get_avg(total_ask_comments, len(ask_posts))\n",
        "\n",
        "print(f\"Total comments on 'Ask HN' posts: {total_ask_comments}\")\n",
        "print(f\"Average comments on 'Ask HN' posts: {avg_ask_comments:0.3f}\")"
      ],
      "execution_count": null,
      "outputs": [
        {
          "output_type": "stream",
          "text": [
            "Total comments on 'Ask HN' posts: 24483\n",
            "Average comments on 'Ask HN' posts: 14.038\n"
          ],
          "name": "stdout"
        }
      ]
    },
    {
      "cell_type": "code",
      "metadata": {
        "colab": {
          "base_uri": "https://localhost:8080/"
        },
        "id": "eFzoPrW4O4hx",
        "outputId": "d69f40d8-57fb-4985-daa3-6372baf68edd"
      },
      "source": [
        "#Getting Total and Average comments on Show HN posts\n",
        "total_show_comments = get_total_commments(show_posts, 4 #index of num_comments column\n",
        "                                        )\n",
        "avg_show_comments = get_avg(total_show_comments, len(show_posts))\n",
        "\n",
        "print(f\"Total comments on 'Show HN' posts: {total_show_comments}\")\n",
        "print(f\"Average comments on 'Show HN' posts: {avg_show_comments:0.3f}\")"
      ],
      "execution_count": null,
      "outputs": [
        {
          "output_type": "stream",
          "text": [
            "Total comments on 'Show HN' posts: 11988\n",
            "Average comments on 'Show HN' posts: 10.317\n"
          ],
          "name": "stdout"
        }
      ]
    },
    {
      "cell_type": "markdown",
      "metadata": {
        "id": "zgU1feZDZnfE"
      },
      "source": [
        "So, __Ask HN Posts__ get more comments than __Show HN Posts__ on an average. \n",
        ">Since ask posts are more likely to receive comments, we'll focus our remaining analysis just on these posts."
      ]
    },
    {
      "cell_type": "markdown",
      "metadata": {
        "id": "JN6rJE5YbJha"
      },
      "source": [
        "# Step4 - Calculate the amount of __Ask Posts__ created per hour, along with the total amount of comments."
      ]
    },
    {
      "cell_type": "markdown",
      "metadata": {
        "id": "06cT2JqhgYwg"
      },
      "source": [
        "Note: `created_at` column is of form __MM/DD/YYYY H:M__\n",
        "\n",
        "[strftime format codes](https://strftime.org/)"
      ]
    },
    {
      "cell_type": "code",
      "metadata": {
        "id": "mi1OQ3Y6YnO5"
      },
      "source": [
        "import datetime as dt #to parse \"created_at\" \n",
        "\n",
        "def get_time(created_at:str, inp_fmt:str, out_fmt:str)->str:\n",
        "    '''Function which parses the `created_at` string as `inp_fmt`\n",
        "    and returns the formatted time pertaining to `out_fmt`'''\n",
        "\n",
        "    dt_obj = dt.datetime.strptime(created_at, inp_fmt)\n",
        "    return dt_obj.strftime(out_fmt)"
      ],
      "execution_count": null,
      "outputs": []
    },
    {
      "cell_type": "code",
      "metadata": {
        "id": "uTAl18UvfTRo"
      },
      "source": [
        "#extracting created_at and num_comments for posts in ask_posts\n",
        "results_list = []\n",
        "for post in ask_posts:\n",
        "    created_at = post[6]\n",
        "    comments = int(post[4])\n",
        "    #converting \"MM/DD/YYYY H:M\" to \"H\"\n",
        "    created_at = get_time(created_at, inp_fmt=\"%m/%d/%Y %H:%M\", out_fmt=\"%H\")\n",
        "    \n",
        "    results_list.append([created_at, comments])"
      ],
      "execution_count": null,
      "outputs": []
    },
    {
      "cell_type": "code",
      "metadata": {
        "colab": {
          "base_uri": "https://localhost:8080/"
        },
        "id": "KLN9IxQahpJt",
        "outputId": "b9523096-91da-4ff3-cd06-817f5eb67f15"
      },
      "source": [
        "#list of lists where each list = [Hour, #comments]\n",
        "results_list[:10]"
      ],
      "execution_count": null,
      "outputs": [
        {
          "output_type": "execute_result",
          "data": {
            "text/plain": [
              "[['09', 6],\n",
              " ['13', 29],\n",
              " ['10', 1],\n",
              " ['14', 3],\n",
              " ['16', 17],\n",
              " ['23', 1],\n",
              " ['12', 4],\n",
              " ['09', 1],\n",
              " ['17', 1],\n",
              " ['17', 2]]"
            ]
          },
          "metadata": {
            "tags": []
          },
          "execution_count": 14
        }
      ]
    },
    {
      "cell_type": "code",
      "metadata": {
        "id": "d_0OqUPyi49K"
      },
      "source": [
        "#Creating our required frequency tables\n",
        "counts_by_hour = {}\n",
        "comments_by_hour = {}\n",
        "\n",
        "for val in results_list:\n",
        "    hour = val[0]\n",
        "    comments = val[1]\n",
        "\n",
        "    #if given hour not present as a key, create it\n",
        "    counts_by_hour.setdefault(hour, 0)\n",
        "    comments_by_hour.setdefault(hour, 0)\n",
        "\n",
        "    #update the value for given hour\n",
        "    counts_by_hour[hour] += 1\n",
        "    comments_by_hour[hour] += comments"
      ],
      "execution_count": null,
      "outputs": []
    },
    {
      "cell_type": "code",
      "metadata": {
        "colab": {
          "base_uri": "https://localhost:8080/"
        },
        "id": "zZTvTlmyk6o-",
        "outputId": "d0a6e386-d8cc-4cd0-ba8d-f6b4585c5bf5"
      },
      "source": [
        "comments_by_hour"
      ],
      "execution_count": null,
      "outputs": [
        {
          "output_type": "execute_result",
          "data": {
            "text/plain": [
              "{'00': 447,\n",
              " '01': 683,\n",
              " '02': 1381,\n",
              " '03': 421,\n",
              " '04': 337,\n",
              " '05': 464,\n",
              " '06': 397,\n",
              " '07': 267,\n",
              " '08': 492,\n",
              " '09': 251,\n",
              " '10': 793,\n",
              " '11': 641,\n",
              " '12': 687,\n",
              " '13': 1253,\n",
              " '14': 1416,\n",
              " '15': 4477,\n",
              " '16': 1814,\n",
              " '17': 1146,\n",
              " '18': 1439,\n",
              " '19': 1188,\n",
              " '20': 1722,\n",
              " '21': 1745,\n",
              " '22': 479,\n",
              " '23': 543}"
            ]
          },
          "metadata": {
            "tags": []
          },
          "execution_count": 16
        }
      ]
    },
    {
      "cell_type": "markdown",
      "metadata": {
        "id": "soKLCConlczg"
      },
      "source": [
        "- We can se there are lot of comments from **1p.m. till 10p.m.**"
      ]
    },
    {
      "cell_type": "code",
      "metadata": {
        "colab": {
          "base_uri": "https://localhost:8080/"
        },
        "id": "_qnE905rlEav",
        "outputId": "52eacceb-2732-46e8-fd84-9fde38118232"
      },
      "source": [
        "counts_by_hour"
      ],
      "execution_count": null,
      "outputs": [
        {
          "output_type": "execute_result",
          "data": {
            "text/plain": [
              "{'00': 55,\n",
              " '01': 60,\n",
              " '02': 58,\n",
              " '03': 54,\n",
              " '04': 47,\n",
              " '05': 46,\n",
              " '06': 44,\n",
              " '07': 34,\n",
              " '08': 48,\n",
              " '09': 45,\n",
              " '10': 59,\n",
              " '11': 58,\n",
              " '12': 73,\n",
              " '13': 85,\n",
              " '14': 107,\n",
              " '15': 116,\n",
              " '16': 108,\n",
              " '17': 100,\n",
              " '18': 109,\n",
              " '19': 110,\n",
              " '20': 80,\n",
              " '21': 109,\n",
              " '22': 71,\n",
              " '23': 68}"
            ]
          },
          "metadata": {
            "tags": []
          },
          "execution_count": 17
        }
      ]
    },
    {
      "cell_type": "markdown",
      "metadata": {
        "id": "_8lqISjWmeXy"
      },
      "source": [
        "# Step5 - Calculating the Average Number of Comments for __Ask HN__ Posts by Hour\n",
        "\n"
      ]
    },
    {
      "cell_type": "code",
      "metadata": {
        "id": "gH21PenXlX_9"
      },
      "source": [
        "avg_by_hour = []\n",
        "for hour, n_comments in comments_by_hour.items():\n",
        "    avg_by_hour.append([hour,\n",
        "                        round(n_comments/counts_by_hour[hour], 3)]\n",
        "    )       "
      ],
      "execution_count": null,
      "outputs": []
    },
    {
      "cell_type": "code",
      "metadata": {
        "colab": {
          "base_uri": "https://localhost:8080/"
        },
        "id": "PfpX1F3nngTi",
        "outputId": "2ff0cbac-21aa-40ce-b034-2b9a91464e2d"
      },
      "source": [
        "avg_by_hour"
      ],
      "execution_count": null,
      "outputs": [
        {
          "output_type": "execute_result",
          "data": {
            "text/plain": [
              "[['09', 5.578],\n",
              " ['13', 14.741],\n",
              " ['10', 13.441],\n",
              " ['14', 13.234],\n",
              " ['16', 16.796],\n",
              " ['23', 7.985],\n",
              " ['12', 9.411],\n",
              " ['17', 11.46],\n",
              " ['15', 38.595],\n",
              " ['21', 16.009],\n",
              " ['20', 21.525],\n",
              " ['02', 23.81],\n",
              " ['18', 13.202],\n",
              " ['03', 7.796],\n",
              " ['05', 10.087],\n",
              " ['19', 10.8],\n",
              " ['01', 11.383],\n",
              " ['22', 6.746],\n",
              " ['08', 10.25],\n",
              " ['04', 7.17],\n",
              " ['00', 8.127],\n",
              " ['06', 9.023],\n",
              " ['07', 7.853],\n",
              " ['11', 11.052]]"
            ]
          },
          "metadata": {
            "tags": []
          },
          "execution_count": 19
        }
      ]
    },
    {
      "cell_type": "code",
      "metadata": {
        "colab": {
          "base_uri": "https://localhost:8080/"
        },
        "id": "Yzi95hzEniQP",
        "outputId": "45290dfa-06dc-4d06-a461-f6217dab092e"
      },
      "source": [
        "#sorting the list to get better sense of distribution\n",
        "sorted_avg_by_hour = sorted(avg_by_hour, key=lambda x:x[1], reverse=True)\n",
        "sorted_avg_by_hour"
      ],
      "execution_count": null,
      "outputs": [
        {
          "output_type": "execute_result",
          "data": {
            "text/plain": [
              "[['15', 38.595],\n",
              " ['02', 23.81],\n",
              " ['20', 21.525],\n",
              " ['16', 16.796],\n",
              " ['21', 16.009],\n",
              " ['13', 14.741],\n",
              " ['10', 13.441],\n",
              " ['14', 13.234],\n",
              " ['18', 13.202],\n",
              " ['17', 11.46],\n",
              " ['01', 11.383],\n",
              " ['11', 11.052],\n",
              " ['19', 10.8],\n",
              " ['08', 10.25],\n",
              " ['05', 10.087],\n",
              " ['12', 9.411],\n",
              " ['06', 9.023],\n",
              " ['00', 8.127],\n",
              " ['23', 7.985],\n",
              " ['07', 7.853],\n",
              " ['03', 7.796],\n",
              " ['04', 7.17],\n",
              " ['22', 6.746],\n",
              " ['09', 5.578]]"
            ]
          },
          "metadata": {
            "tags": []
          },
          "execution_count": 20
        }
      ]
    },
    {
      "cell_type": "code",
      "metadata": {
        "colab": {
          "base_uri": "https://localhost:8080/"
        },
        "id": "4Q69lsMfoski",
        "outputId": "4e5a379d-2620-43bd-a129-23fe30ad0156"
      },
      "source": [
        "print(\"\\tTop 5 Hours for Ask Posts Comments\")\n",
        "for hour, avg in sorted_avg_by_hour[:5]:\n",
        "    print(f\"{dt.datetime.strptime(hour, '%H').strftime('%H:%M')} : \"\n",
        "          f\"{avg:0.2f} average comments per post.\")"
      ],
      "execution_count": null,
      "outputs": [
        {
          "output_type": "stream",
          "text": [
            "\tTop 5 Hours for Ask Posts Comments\n",
            "15:00 : 38.59 average comments per post.\n",
            "02:00 : 23.81 average comments per post.\n",
            "20:00 : 21.52 average comments per post.\n",
            "16:00 : 16.80 average comments per post.\n",
            "21:00 : 16.01 average comments per post.\n"
          ],
          "name": "stdout"
        }
      ]
    },
    {
      "cell_type": "markdown",
      "metadata": {
        "id": "Q8f7-b0OvMGi"
      },
      "source": [
        "- The hour that receives the most comments per post on average is 15:00, with an average of 38.59 comments per post. \n",
        "- There's about a 60% increase in the number of comments between the hours with the highest and second highest average number of comments.\n",
        "\n",
        "    > So the best time to post is 3p.m. EST"
      ]
    },
    {
      "cell_type": "markdown",
      "metadata": {
        "id": "hrBYb-4ry7Nb"
      },
      "source": [
        "\n",
        "# Step6 - Template to convert Time to any timezone\n",
        "```python\n",
        "delta = dt.timedelta(hours=9, minutes=30) \n",
        "est = dt.time(hour=16, minute=40) #given time in EST/EDT\n",
        "your_time = (dt.datetime.combine(dt.date(1, 1, 1), #dummy date\n",
        "                                 est) + delta ).time()\n",
        "```\n",
        "\n"
      ]
    },
    {
      "cell_type": "code",
      "metadata": {
        "colab": {
          "base_uri": "https://localhost:8080/"
        },
        "id": "bK-gdlZUuRvT",
        "outputId": "e9806203-9750-4b2a-b577-283c3e8e4b5f"
      },
      "source": [
        "#Template to convert Time to IST\n",
        "#IST(Indian Stadard Time is 9 hours and 30 mins ahead of EST/EDT)\n",
        "IST_delta = dt.timedelta(hours=9, minutes=30) \n",
        "est = dt.time(hour=16, minute=40)\n",
        "ist = (dt.datetime.combine(dt.date(1, 1, 1), #dummy date\n",
        "                         est) + IST_delta \n",
        "       ).time()\n",
        "print(f\"EST Time: {est}, IST:{ist}\")"
      ],
      "execution_count": null,
      "outputs": [
        {
          "output_type": "stream",
          "text": [
            "EST Time: 16:40:00, IST:02:10:00\n"
          ],
          "name": "stdout"
        }
      ]
    },
    {
      "cell_type": "markdown",
      "metadata": {
        "id": "-7wN8V9E1gdA"
      },
      "source": [
        "# Conclusion\n",
        "\n",
        "We can say that out of all posts that had comments on them, \n",
        "\n",
        "- __ask posts__ received more comments than __show posts__.\n",
        "- And  __ask posts__ created between 15:00 and 16:00 (3:00 pm est - 4:00 pm est) received the most comments on average."
      ]
    }
  ]
}